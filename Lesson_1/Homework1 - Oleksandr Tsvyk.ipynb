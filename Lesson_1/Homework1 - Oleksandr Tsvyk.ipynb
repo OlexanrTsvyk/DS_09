{
 "cells": [
  {
   "cell_type": "markdown",
   "id": "98847e46",
   "metadata": {},
   "source": [
    "**1. Mardown cells**\n",
    "\n",
    "* Hi its Main Academy?\n",
    "* All HTML tabs are supported!\n",
    "* Моя сторінка на [Лінкедін](https://ru.linkedin.com/)\n",
    "\n",
    "# This is Heading1\n",
    "## This is Heading2\n",
    "\n",
    "some gray colored text:  \n",
    "\n",
    ">This is were we can bring goutes and present them nicely\n",
    "    \n",
    "And this is thr paragraph about something very important Even math:\n",
    "\\begin{equation}\n",
    "y_{sub}=\\sqrt{(x_{sub})}\n",
    "\\end{equation}\n",
    "\n",
    "Or python code example:\n",
    "    import math  \n",
    "    def foo():  \n",
    "    retutn \"foo\"\n",
    "    "
   ]
  },
  {
   "cell_type": "markdown",
   "id": "a5bb745d",
   "metadata": {},
   "source": [
    "Here is the sample mean:\n",
    "\\begin{equation}\n",
    "\\overline{y}={1\\over{n}}\\sum_{i=1}^ny_i\n",
    "\\end{equation}\n",
    "Here is the sample variance:\n",
    "\\begin{equation}\n",
    "\\sigma^2={{\\sum_{i=1}^n(y_i-\\overline{y})^2}\\over{(n-1)}}\n",
    "\\end{equation}\n",
    "Here is the sample standard deviation:\n",
    "\\begin{equation}\n",
    "\\sigma=\\sqrt{{{\\sum_{i=1}^n(y_i-\\overline{y})^2}\\over{(n-1)}}}\n",
    "\\end{equation}\n"
   ]
  },
  {
   "cell_type": "code",
   "execution_count": null,
   "id": "a2b10266",
   "metadata": {},
   "outputs": [],
   "source": []
  }
 ],
 "metadata": {
  "kernelspec": {
   "display_name": "Python 3 (ipykernel)",
   "language": "python",
   "name": "python3"
  },
  "language_info": {
   "codemirror_mode": {
    "name": "ipython",
    "version": 3
   },
   "file_extension": ".py",
   "mimetype": "text/x-python",
   "name": "python",
   "nbconvert_exporter": "python",
   "pygments_lexer": "ipython3",
   "version": "3.10.0"
  }
 },
 "nbformat": 4,
 "nbformat_minor": 5
}
