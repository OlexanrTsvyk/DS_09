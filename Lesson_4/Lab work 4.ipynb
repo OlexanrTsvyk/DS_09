{
 "cells": [
  {
   "cell_type": "markdown",
   "metadata": {},
   "source": [
    "___\n",
    "\n",
    "<a href='https://mainacademy.ua/'> <img src='https://mainacademy.ua/wp-content/uploads/2019/03/logo-main.png' alt = 'Хмм, щось з інтернетом'/></a>\n",
    "___\n",
    "\n",
    "# Module 4: Work with data professionally!"
   ]
  },
  {
   "cell_type": "markdown",
   "metadata": {},
   "source": [
    "## Lab work 4\n",
    "\n"
   ]
  },
  {
   "cell_type": "markdown",
   "metadata": {},
   "source": [
    "#### Мета: \n",
    "\n",
    "* навчитися обробляти дані\n",
    "* \"парсити\" сайти"
   ]
  },
  {
   "cell_type": "markdown",
   "metadata": {},
   "source": [
    "### Завдання 1:"
   ]
  },
  {
   "cell_type": "markdown",
   "metadata": {},
   "source": [
    "#### Ознайомитися із API Національного банку \n",
    "https://old.bank.gov.ua/control/uk/publish/article?art_id=38441973&cat_id=38459171#exchange\n",
    "\n"
   ]
  },
  {
   "cell_type": "markdown",
   "metadata": {},
   "source": [
    "1. Підключитися до API.\n"
   ]
  },
  {
   "cell_type": "code",
   "execution_count": 1,
   "metadata": {},
   "outputs": [],
   "source": [
    "import requests\n",
    "link='https://bank.gov.ua/NBUStatService/v1/statdirectory/exchange'\n",
    "parametrs={'valcode': 'USD', 'date': '20211107', 'json': 'json'}"
   ]
  },
  {
   "cell_type": "markdown",
   "metadata": {},
   "source": [
    "2. Отримати курс долара за останній рік."
   ]
  },
  {
   "cell_type": "code",
   "execution_count": 2,
   "metadata": {},
   "outputs": [],
   "source": [
    "import requests\n",
    "from datetime import datetime, date, time, timedelta\n",
    "import math\n",
    "\n",
    "year_USD=[]\n",
    "link='https://bank.gov.ua/NBUStatService/v1/statdirectory/exchange'\n",
    "parametrs={'valcode': 'USD', 'date': '20211107', 'json': 'json'}\n",
    "date=datetime.now()\n",
    " \n",
    "for i in range (0, 366):\n",
    "    parametrs['date']=(date-timedelta(days=i)).strftime('%Y%m%d')\n",
    "    response=requests.get(link, params=parametrs).json()\n",
    "    year_USD.extend(response)"
   ]
  },
  {
   "cell_type": "markdown",
   "metadata": {},
   "source": [
    "3. Вивести середнє значення та відхилення курсу за кожний місяць."
   ]
  },
  {
   "cell_type": "code",
   "execution_count": 4,
   "metadata": {},
   "outputs": [
    {
     "data": {
      "text/plain": [
       "[{'період': '2021-01',\n",
       "  'середнє значення': 27.967741935483872,\n",
       "  'відхилення': 0.17668469596940842},\n",
       " {'період': '2021-02',\n",
       "  'середнє значення': 27.107142857142858,\n",
       "  'відхилення': 0.30929478706587094},\n",
       " {'період': '2021-03',\n",
       "  'середнє значення': 27.032258064516128,\n",
       "  'відхилення': 0.17668469596940842},\n",
       " {'період': '2021-04',\n",
       "  'середнє значення': 27.233333333333334,\n",
       "  'відхилення': 0.42295258468165076},\n",
       " {'період': '2021-05', 'середнє значення': 27.0, 'відхилення': 0.0},\n",
       " {'період': '2021-06',\n",
       "  'середнє значення': 26.933333333333334,\n",
       "  'відхилення': 0.2494438257849295},\n",
       " {'період': '2021-07',\n",
       "  'середнє значення': 26.838709677419356,\n",
       "  'відхилення': 0.36779852422552833},\n",
       " {'період': '2021-08', 'середнє значення': 26.0, 'відхилення': 0.0},\n",
       " {'період': '2021-09',\n",
       "  'середнє значення': 26.133333333333333,\n",
       "  'відхилення': 0.339934634239519},\n",
       " {'період': '2021-10', 'середнє значення': 26.0, 'відхилення': 0.0},\n",
       " {'період': '2020-11',\n",
       "  'середнє значення': 27.096774193548388,\n",
       "  'відхилення': 0.9953063626155814}]"
      ]
     },
     "execution_count": 4,
     "metadata": {},
     "output_type": "execute_result"
    }
   ],
   "source": [
    "import requests\n",
    "from datetime import datetime, date, time, timedelta\n",
    "import math\n",
    "\n",
    "year_USD=[]\n",
    "link='https://bank.gov.ua/NBUStatService/v1/statdirectory/exchange'\n",
    "parametrs={'valcode': 'USD', 'date': '20211107', 'json': 'json'}\n",
    "date=datetime.now()\n",
    " \n",
    "for i in range (0, 366):\n",
    "    parametrs['date']=(date-timedelta(days=i)).strftime('%Y%m%d')\n",
    "    response=requests.get(link, params=parametrs).json()\n",
    "    year_USD.extend(response)\n",
    "\n",
    "month_avg=[]\n",
    "\n",
    "for i in range(1, 12):\n",
    "    avg=0\n",
    "    sum_rate=0\n",
    "    cnt=0\n",
    "    otklon=0\n",
    "    sum_r=0\n",
    "    for j in year_USD:\n",
    "        if int(datetime.strptime(j['exchangedate'], '%d.%m.%Y').month)==i:\n",
    "            sum_rate+=int(j['rate'])\n",
    "            cnt+=1\n",
    "    avg=sum_rate/cnt\n",
    "    for j in year_USD:\n",
    "        if int(datetime.strptime(j['exchangedate'], '%d.%m.%Y').month)==i:\n",
    "            sum_r+=(int(j['rate'])-avg)**2\n",
    "            period=datetime.strptime(j['exchangedate'], '%d.%m.%Y').strftime('%Y-%m')\n",
    "    otklon=math.sqrt(sum_r/cnt)\n",
    "    month_avg.append({'період': period, 'середнє значення': avg,'відхилення': otklon})   \n",
    "\n",
    "month_avg"
   ]
  },
  {
   "cell_type": "markdown",
   "metadata": {},
   "source": [
    "4. Дану інформацію записати у файл за допомогою pickle."
   ]
  },
  {
   "cell_type": "code",
   "execution_count": 5,
   "metadata": {},
   "outputs": [],
   "source": [
    "import pickle\n",
    "\n",
    "with open('kurs.pickle', 'wb') as f:\n",
    "    pickle.dump(month_avg, f)"
   ]
  },
  {
   "cell_type": "markdown",
   "metadata": {},
   "source": [
    "### Завдання 2:"
   ]
  },
  {
   "cell_type": "markdown",
   "metadata": {},
   "source": [
    "Потрібно проаналізувати всі товари на сайті: \n",
    "https://smallpacking.agrosem.ua/shop/"
   ]
  },
  {
   "cell_type": "markdown",
   "metadata": {},
   "source": [
    "Створіть базу даних, що містить таблицю із такими стовбцями: \n",
    "    - артикул товару\n",
    "    - найменування\n",
    "    - ціна \n",
    "    - вага"
   ]
  },
  {
   "cell_type": "code",
   "execution_count": 4,
   "metadata": {},
   "outputs": [
    {
     "name": "stdout",
     "output_type": "stream",
     "text": [
      "20\n"
     ]
    }
   ],
   "source": [
    "import requests\n",
    "from bs4 import BeautifulSoup\n",
    "\n",
    "import sqlite3\n",
    "\n",
    "sql_text = \"\"\"CREATE TABLE products_agrosem ( \n",
    "                                sku TEXT NOT NULL,\n",
    "                                name TEXT NOT NULL,\n",
    "                                price REAL  NULL, \n",
    "                                Weight INTEGER  NULL) \"\"\"\n",
    "\n",
    "conn = sqlite3.connect('products_agrosem.sqlite3')\n",
    "curs = conn.cursor()\n",
    "curs.execute(sql_text)\n",
    "conn.close()\n",
    "\n",
    "def insert_products (sku, name, price, Weight):\n",
    "    sql_text = \"\"\"INSERT INTO products_agrosem (sku, name, price, Weight) VALUES (?, ?, ?, ?)\"\"\"\n",
    "\n",
    "    conn = sqlite3.connect('products_agrosem.sqlite3')\n",
    "    curs = conn.cursor()\n",
    "    curs.execute(sql_text, (sku, name, price, Weight))\n",
    "    conn.commit()\n",
    "    conn.close()\n",
    "    \n",
    "\n",
    "link = 'https://smallpacking.agrosem.ua/shop/'\n",
    "\n",
    "#response = requests.get('https://smallpacking.agrosem.ua/shop/')\n",
    "\n",
    "def get_soup(link):\n",
    "    soup = None\n",
    "    try:\n",
    "        r = requests.get(link)\n",
    "        soup = BeautifulSoup(r.text, 'lxml')\n",
    "    except Exception as e:\n",
    "        print(e)   \n",
    "    return soup\n",
    "\n",
    "#print(get_soup(link))\n",
    "\n",
    "def qty_of_pages(link):\n",
    "    soup = get_soup(link)\n",
    "    if soup != None:\n",
    "        return soup.find('ul', class_='page-numbers').find_all('li')[-2].text\n",
    "print(qty_of_pages(link))\n",
    "\n",
    "\n",
    "def get_products (page):\n",
    "    soup = get_soup(link+f'/page/{page}')\n",
    "    if soup != None:\n",
    "        for good in soup.find_all('div', class_=\"product-from-category-container\"):\n",
    "            href = good.a.get('href')\n",
    "            soup_g = BeautifulSoup( requests.get(href).text, 'lxml')\n",
    "            if soup_g != None:\n",
    "                if soup_g.find('span', class_='sku').text==None:\n",
    "                    sku='Null'\n",
    "                else:\n",
    "                    sku=soup_g.find('span', class_='sku').text\n",
    "                if soup_g.find('div', class_='atributes-description').find('h2').text==None:\n",
    "                    name='Null'\n",
    "                else:\n",
    "                    name=soup_g.find('div', class_='atributes-description').find('h2').text\n",
    "                if soup_g.find('span', class_='regular-price').text==None:\n",
    "                    price=0\n",
    "                else:\n",
    "                    if  soup_g.find('span', class_='regular-price').text.replace(\"грн\", \"\").replace(\" \", \"\")=='':\n",
    "                        price=0\n",
    "                    else:\n",
    "                        try:\n",
    "                            price=int(soup_g.find('span', class_='regular-price').text.replace(\"грн\", \"\").replace(\" \", \"\")) \n",
    "                        except Exception as e:\n",
    "                            price=0\n",
    "                if soup_g.find('tr', class_='woocommerce-product-attributes-item woocommerce-product-attributes-item--attribute_pa_vaga')==None:\n",
    "                    Weight=0\n",
    "                else:\n",
    "                    if  soup_g.find('tr', class_='woocommerce-product-attributes-item woocommerce-product-attributes-item--attribute_pa_vaga').find('td', class_='woocommerce-product-attributes-item__value').text.replace(\"кг\", \"\").replace(\" \", \"\")=='':\n",
    "                        Weight=0\n",
    "                    else:\n",
    "                        try:\n",
    "                            Weight=int(soup_g.find('tr', class_='woocommerce-product-attributes-item woocommerce-product-attributes-item--attribute_pa_vaga').find('td', class_='woocommerce-product-attributes-item__value').text.replace(\"кг\", \"\").replace(\" \", \"\"))\n",
    "                        except Exception as e:\n",
    "                            Weight=0\n",
    "                insert_products (sku, name, price, Weight)\n",
    "\n",
    "\n",
    "if __name__ == '__main__':\n",
    "    qty  = int(qty_of_pages(link))\n",
    "    for i in range(1, qty):\n",
    "        get_products (i)                        \n",
    "                            \n",
    "\n"
   ]
  },
  {
   "cell_type": "markdown",
   "metadata": {},
   "source": [
    "### Завдання 3: "
   ]
  },
  {
   "cell_type": "markdown",
   "metadata": {},
   "source": [
    "Ознайомтеся із роботою SQLite та відповідним модулем у Python.\n",
    "Завантажте базу даних для виконання лабораторної роботи.\n",
    "Підключіться до завантаженої бази SQLite."
   ]
  },
  {
   "cell_type": "markdown",
   "metadata": {},
   "source": [
    "1. Виведіть інформацію про дану базу."
   ]
  },
  {
   "cell_type": "code",
   "execution_count": 7,
   "metadata": {},
   "outputs": [
    {
     "name": "stdout",
     "output_type": "stream",
     "text": [
      "[('table', 'Customers', 'Customers', 2, 'CREATE TABLE Customers\\n(\\n  cust_id      char(10)  NOT NULL ,\\n  cust_name    char(50)  NOT NULL ,\\n  cust_address char(50)  NULL ,\\n  cust_city    char(50)  NULL ,\\n  cust_state   char(5)   NULL ,\\n  cust_zip     char(10)  NULL ,\\n  cust_country char(50)  NULL ,\\n  cust_contact char(50)  NULL ,\\n  cust_email   char(255) NULL ,\\n  PRIMARY KEY (cust_id)\\n)'), ('index', 'sqlite_autoindex_Customers_1', 'Customers', 3, None), ('table', 'OrderItems', 'OrderItems', 4, 'CREATE TABLE OrderItems\\n(\\n  order_num  int          NOT NULL                      ,\\n  order_item int          NOT NULL                      ,\\n  prod_id    char(10)     NOT NULL                      ,\\n  quantity   int          NOT NULL                      ,\\n  item_price decimal(8,2) NOT NULL                      ,\\n  PRIMARY KEY (order_num, order_item)                   ,\\n  FOREIGN KEY (order_num) REFERENCES Orders (order_num) ,\\n  FOREIGN KEY (prod_id) REFERENCES Products (prod_id)\\n)'), ('index', 'sqlite_autoindex_OrderItems_1', 'OrderItems', 5, None), ('table', 'Orders', 'Orders', 7, 'CREATE TABLE Orders\\n(\\n  order_num  int      NOT NULL ,\\n  order_date datetime NOT NULL ,\\n  cust_id    char(10) NOT NULL ,\\n  PRIMARY KEY (order_num)      ,\\n  FOREIGN KEY (cust_id) REFERENCES Customers (cust_id)\\n)'), ('index', 'sqlite_autoindex_Orders_1', 'Orders', 9, None), ('table', 'Products', 'Products', 10, 'CREATE TABLE Products\\n(\\n  prod_id    char(10)      NOT NULL ,\\n  vend_id    char(10)      NOT NULL ,\\n  prod_name  char(255)     NOT NULL ,\\n  prod_price decimal(8,2)  NOT NULL ,\\n  prod_desc  text          NULL     ,\\n  PRIMARY KEY (prod_id)             ,\\n  FOREIGN KEY (vend_id) REFERENCES Vendors (vend_id)\\n)'), ('index', 'sqlite_autoindex_Products_1', 'Products', 11, None), ('table', 'Vendors', 'Vendors', 12, 'CREATE TABLE Vendors\\n(\\n  vend_id      char(10) NOT NULL ,\\n  vend_name    char(50) NOT NULL ,\\n  vend_address char(50) NULL     ,\\n  vend_city    char(50) NULL     ,\\n  vend_state   char(5)  NULL     ,\\n  vend_zip     char(10) NULL     ,\\n  vend_country char(50) NULL     ,\\n  PRIMARY KEY (vend_id)\\n)'), ('index', 'sqlite_autoindex_Vendors_1', 'Vendors', 13, None)]\n"
     ]
    }
   ],
   "source": [
    " import sqlite3\n",
    "\n",
    "sql_text = \"\"\"SELECT * FROM sqlite_master \"\"\"\n",
    "\n",
    "conn = sqlite3.connect('tysql.sqlite')\n",
    "curs = conn.cursor()\n",
    "info=curs.execute(sql_text)\n",
    "print(info.fetchall())\n",
    "conn.close()\n",
    "   "
   ]
  },
  {
   "cell_type": "markdown",
   "metadata": {},
   "source": [
    "2. Виведіть перелік всіх таблиць."
   ]
  },
  {
   "cell_type": "code",
   "execution_count": 16,
   "metadata": {},
   "outputs": [
    {
     "name": "stdout",
     "output_type": "stream",
     "text": [
      "[('Customers',), ('OrderItems',), ('Orders',), ('Products',), ('Vendors',)]\n"
     ]
    }
   ],
   "source": [
    "import sqlite3\n",
    "\n",
    "con = sqlite3.connect('tysql.sqlite')\n",
    "\n",
    "def sql_fetch(con):\n",
    "    cursorObj = con.cursor()\n",
    "    cursorObj.execute('SELECT name from sqlite_master where type= \"table\"')\n",
    "    print(cursorObj.fetchall())\n",
    "    conn.close()\n",
    "sql_fetch(con)"
   ]
  },
  {
   "cell_type": "markdown",
   "metadata": {},
   "source": [
    "3. Список всіх cust_id з таблиці Customers table."
   ]
  },
  {
   "cell_type": "code",
   "execution_count": 17,
   "metadata": {},
   "outputs": [
    {
     "name": "stdout",
     "output_type": "stream",
     "text": [
      "[('1000000001',), ('1000000002',), ('1000000003',), ('1000000004',), ('1000000005',)]\n"
     ]
    }
   ],
   "source": [
    "import sqlite3\n",
    "\n",
    "con = sqlite3.connect('tysql.sqlite')\n",
    "\n",
    "cursorObj = con.cursor()\n",
    "cursorObj.execute('SELECT cust_id from Customers')\n",
    "print(cursorObj.fetchall())\n",
    "con.close()"
   ]
  },
  {
   "cell_type": "markdown",
   "metadata": {},
   "source": [
    "4. Всю таблицю Customers table"
   ]
  },
  {
   "cell_type": "code",
   "execution_count": 18,
   "metadata": {},
   "outputs": [
    {
     "name": "stdout",
     "output_type": "stream",
     "text": [
      "[('1000000001', 'Village Toys', '200 Maple Lane', 'Detroit', 'MI', '44444', 'USA', 'John Smith', 'sales@villagetoys.com'), ('1000000002', 'Kids Place', '333 South Lake Drive', 'Columbus', 'OH', '43333', 'USA', 'Michelle Green', None), ('1000000003', 'Fun4All', '1 Sunny Place', 'Muncie', 'IN', '42222', 'USA', 'Jim Jones', 'jjones@fun4all.com'), ('1000000004', 'Fun4All', '829 Riverside Drive', 'Phoenix', 'AZ', '88888', 'USA', 'Denise L. Stephens', 'dstephens@fun4all.com'), ('1000000005', 'The Toy Store', '4545 53rd Street', 'Chicago', 'IL', '54545', 'USA', 'Kim Howard', None)]\n"
     ]
    }
   ],
   "source": [
    "import sqlite3\n",
    "\n",
    "con = sqlite3.connect('tysql.sqlite')\n",
    "\n",
    "cursorObj = con.cursor()\n",
    "cursorObj.execute('SELECT * from Customers')\n",
    "print(cursorObj.fetchall())\n",
    "con.close()"
   ]
  },
  {
   "cell_type": "markdown",
   "metadata": {},
   "source": [
    "5. Список клієнтів (cust_names) відсортованих від Z до A"
   ]
  },
  {
   "cell_type": "code",
   "execution_count": 21,
   "metadata": {},
   "outputs": [
    {
     "name": "stdout",
     "output_type": "stream",
     "text": [
      "[('Village Toys',), ('The Toy Store',), ('Kids Place',), ('Fun4All',), ('Fun4All',)]\n"
     ]
    }
   ],
   "source": [
    "import sqlite3\n",
    "sql_text = \"\"\"SELECT cust_name from Customers \n",
    "              order by cust_name desc \"\"\"\n",
    "\n",
    "con = sqlite3.connect('tysql.sqlite')\n",
    "cursorObj = con.cursor()\n",
    "cursorObj.execute(sql_text)\n",
    "print(cursorObj.fetchall())\n",
    "\n",
    "con.close()"
   ]
  },
  {
   "cell_type": "markdown",
   "metadata": {},
   "source": [
    "6. Таблицю клієнтів та замовлень (cust_id і order_num) . Відсортуйте по клієнту і потім по даті замовлення"
   ]
  },
  {
   "cell_type": "code",
   "execution_count": 32,
   "metadata": {},
   "outputs": [
    {
     "name": "stdout",
     "output_type": "stream",
     "text": [
      "[('1000000001', 20005), ('1000000001', 20009), ('1000000003', 20006), ('1000000004', 20007), ('1000000005', 20008)]\n"
     ]
    }
   ],
   "source": [
    "import sqlite3\n",
    "sql_text = \"\"\"SELECT a.cust_id, order_num from Customers a inner join Orders b on a.cust_id=b.cust_id\n",
    "              order by a.cust_id, order_num \"\"\"\n",
    "\n",
    "con = sqlite3.connect('tysql.sqlite')\n",
    "cursorObj = con.cursor()\n",
    "cursorObj.execute(sql_text)\n",
    "print(cursorObj.fetchall())\n",
    "\n",
    "con.close()"
   ]
  },
  {
   "cell_type": "markdown",
   "metadata": {},
   "source": [
    "7. Таблицю (на основі Items) з кількість та вартістю товару. Відсортуйте в порядку спадання по кількості та вартості"
   ]
  },
  {
   "cell_type": "code",
   "execution_count": 33,
   "metadata": {},
   "outputs": [
    {
     "name": "stdout",
     "output_type": "stream",
     "text": [
      "[(20009, 1, 'BNBG01', 250, 2.49), (20009, 2, 'BNBG02', 250, 2.49), (20009, 3, 'BNBG03', 250, 2.49), (20005, 1, 'BR01', 100, 5.49), (20005, 2, 'BR03', 100, 10.99), (20007, 2, 'BNBG01', 100, 2.99), (20007, 3, 'BNBG02', 100, 2.99), (20007, 4, 'BNBG03', 100, 2.99), (20007, 1, 'BR03', 50, 11.49), (20007, 5, 'RGAN01', 50, 4.49), (20006, 1, 'BR01', 20, 5.99), (20006, 2, 'BR02', 10, 8.99), (20006, 3, 'BR03', 10, 11.99), (20008, 3, 'BNBG01', 10, 3.49), (20008, 4, 'BNBG02', 10, 3.49), (20008, 5, 'BNBG03', 10, 3.49), (20008, 1, 'RGAN01', 5, 4.99), (20008, 2, 'BR03', 5, 11.99)]\n"
     ]
    }
   ],
   "source": [
    "import sqlite3\n",
    "sql_text = \"\"\"SELECT * from OrderItems\n",
    "              order by quantity desc\"\"\"\n",
    "\n",
    "con = sqlite3.connect('tysql.sqlite')\n",
    "cursorObj = con.cursor()\n",
    "cursorObj.execute(sql_text)\n",
    "print(cursorObj.fetchall())\n",
    "\n",
    "con.close()"
   ]
  },
  {
   "cell_type": "markdown",
   "metadata": {},
   "source": [
    "8. Товар (з таблиці Products), ціна якого становить 9.49"
   ]
  },
  {
   "cell_type": "code",
   "execution_count": 35,
   "metadata": {},
   "outputs": [
    {
     "name": "stdout",
     "output_type": "stream",
     "text": [
      "[('RYL01', 'King doll'), ('RYL02', 'Queen doll')]\n"
     ]
    }
   ],
   "source": [
    "import sqlite3\n",
    "sql_text = \"\"\"SELECT prod_id, prod_name from Products\n",
    "              where prod_price=9.49\"\"\"\n",
    "\n",
    "con = sqlite3.connect('tysql.sqlite')\n",
    "cursorObj = con.cursor()\n",
    "cursorObj.execute(sql_text)\n",
    "print(cursorObj.fetchall())\n",
    "\n",
    "con.close()"
   ]
  },
  {
   "cell_type": "markdown",
   "metadata": {},
   "source": [
    "9. Виведіть назву товару та ціну, яка лежить в діапазоні від  3 до 6. Відсортуйте результат в по ціні в порядку зростання"
   ]
  },
  {
   "cell_type": "code",
   "execution_count": 36,
   "metadata": {},
   "outputs": [
    {
     "name": "stdout",
     "output_type": "stream",
     "text": [
      "[('Fish bean bag toy', 3.49), ('Bird bean bag toy', 3.49), ('Rabbit bean bag toy', 3.49), ('Raggedy Ann', 4.99), ('8 inch teddy bear', 5.99)]\n"
     ]
    }
   ],
   "source": [
    "import sqlite3\n",
    "sql_text = \"\"\"SELECT prod_name, prod_price from Products\n",
    "              where prod_price between 3 and 6\n",
    "              order by prod_price\"\"\"\n",
    "\n",
    "con = sqlite3.connect('tysql.sqlite')\n",
    "cursorObj = con.cursor()\n",
    "cursorObj.execute(sql_text)\n",
    "print(cursorObj.fetchall())\n",
    "\n",
    "con.close()"
   ]
  },
  {
   "cell_type": "markdown",
   "metadata": {},
   "source": [
    "10. Кількість товару, що було продано"
   ]
  },
  {
   "cell_type": "code",
   "execution_count": 37,
   "metadata": {},
   "outputs": [
    {
     "name": "stdout",
     "output_type": "stream",
     "text": [
      "[(1430,)]\n"
     ]
    }
   ],
   "source": [
    "import sqlite3\n",
    "sql_text = \"\"\"SELECT sum(quantity) as cnt from OrderItems\"\"\"\n",
    "\n",
    "con = sqlite3.connect('tysql.sqlite')\n",
    "cursorObj = con.cursor()\n",
    "cursorObj.execute(sql_text)\n",
    "print(cursorObj.fetchall())\n",
    "\n",
    "con.close()"
   ]
  },
  {
   "cell_type": "markdown",
   "metadata": {},
   "source": [
    "11. Кількість найменувань товару, ціна якого більша за 4"
   ]
  },
  {
   "cell_type": "code",
   "execution_count": 39,
   "metadata": {},
   "outputs": [
    {
     "name": "stdout",
     "output_type": "stream",
     "text": [
      "[(6,)]\n"
     ]
    }
   ],
   "source": [
    "import sqlite3\n",
    "sql_text = \"\"\"SELECT count(distinct prod_name) as cnt \n",
    "              from Products \n",
    "              where prod_price>4\"\"\"\n",
    "\n",
    "con = sqlite3.connect('tysql.sqlite')\n",
    "cursorObj = con.cursor()\n",
    "cursorObj.execute(sql_text)\n",
    "print(cursorObj.fetchall())\n",
    "\n",
    "con.close()"
   ]
  },
  {
   "cell_type": "markdown",
   "metadata": {},
   "source": [
    "12. Розробіть алгоритм для виведення 3 найдорожчих товарів в базі"
   ]
  },
  {
   "cell_type": "code",
   "execution_count": 45,
   "metadata": {},
   "outputs": [
    {
     "name": "stdout",
     "output_type": "stream",
     "text": [
      "[('18 inch teddy bear',), ('King doll',), ('Queen doll',)]\n"
     ]
    }
   ],
   "source": [
    "import sqlite3\n",
    "sql_text = \"\"\"SELECT prod_name\n",
    "              from Products \n",
    "              order by prod_price desc\n",
    "              limit 3\"\"\"\n",
    "\n",
    "con = sqlite3.connect('tysql.sqlite')\n",
    "cursorObj = con.cursor()\n",
    "cursorObj.execute(sql_text)\n",
    "print(cursorObj.fetchall())\n",
    "\n",
    "con.close()"
   ]
  },
  {
   "cell_type": "markdown",
   "metadata": {},
   "source": [
    "13. Підрахуйте кількість замовлень для кожного клієнта використовуючи підзапити"
   ]
  },
  {
   "cell_type": "code",
   "execution_count": 48,
   "metadata": {},
   "outputs": [
    {
     "name": "stdout",
     "output_type": "stream",
     "text": [
      "[('1000000001', 2), ('1000000002', 0), ('1000000003', 1), ('1000000004', 1), ('1000000005', 1)]\n"
     ]
    }
   ],
   "source": [
    "import sqlite3\n",
    "sql_text = \"\"\"SELECT cust_id , (Select count(order_num) from Orders o where c.cust_id=o.cust_id) as cnt\n",
    "              from Customers c\n",
    "            \"\"\"\n",
    "\n",
    "con = sqlite3.connect('tysql.sqlite')\n",
    "cursorObj = con.cursor()\n",
    "cursorObj.execute(sql_text)\n",
    "print(cursorObj.fetchall())\n",
    "\n",
    "con.close()"
   ]
  },
  {
   "cell_type": "markdown",
   "metadata": {},
   "source": [
    "14. Виведіть список клієнтів та їх замовлення (використайте JOIN)"
   ]
  },
  {
   "cell_type": "code",
   "execution_count": 50,
   "metadata": {},
   "outputs": [
    {
     "name": "stdout",
     "output_type": "stream",
     "text": [
      "[('1000000001', 2), ('1000000002', 0), ('1000000003', 1), ('1000000004', 1), ('1000000005', 1)]\n"
     ]
    }
   ],
   "source": [
    "import sqlite3\n",
    "sql_text = \"\"\"SELECT c.cust_id ,  count(order_num) as cnt\n",
    "              from Customers c left join Orders o on  c.cust_id=o.cust_id\n",
    "              group by c.cust_id\n",
    "            \"\"\"\n",
    "\n",
    "con = sqlite3.connect('tysql.sqlite')\n",
    "cursorObj = con.cursor()\n",
    "cursorObj.execute(sql_text)\n",
    "print(cursorObj.fetchall())\n",
    "\n",
    "con.close()"
   ]
  },
  {
   "cell_type": "markdown",
   "metadata": {},
   "source": [
    "15. Зробіть два запити: список товарів, ціна яких менша 5 та список товарів, ціна який більша рівна 5. Використайте UNION для об'єднання цих запитів"
   ]
  },
  {
   "cell_type": "code",
   "execution_count": 51,
   "metadata": {},
   "outputs": [
    {
     "name": "stdout",
     "output_type": "stream",
     "text": [
      "[('12 inch teddy bear',), ('18 inch teddy bear',), ('8 inch teddy bear',), ('Bird bean bag toy',), ('Fish bean bag toy',), ('King doll',), ('Queen doll',), ('Rabbit bean bag toy',), ('Raggedy Ann',)]\n"
     ]
    }
   ],
   "source": [
    "import sqlite3\n",
    "sql_text = \"\"\"SELECT prod_name\n",
    "              from Products \n",
    "              where prod_price<5\n",
    "              union \n",
    "              SELECT prod_name\n",
    "              from Products \n",
    "              where prod_price>=5\n",
    "            \"\"\"\n",
    "\n",
    "con = sqlite3.connect('tysql.sqlite')\n",
    "cursorObj = con.cursor()\n",
    "cursorObj.execute(sql_text)\n",
    "print(cursorObj.fetchall())\n",
    "\n",
    "con.close()"
   ]
  },
  {
   "cell_type": "markdown",
   "metadata": {},
   "source": [
    "### Завдання 4: "
   ]
  },
  {
   "cell_type": "markdown",
   "metadata": {},
   "source": [
    "Зареєструйтеся на сайті  http://www.sql-ex.ru/\n",
    "\n",
    "Виконайте завдання із блоку SELECT; з 1 по 30 завдання\n",
    "\n",
    "Код запитів вставляйте сюди\n"
   ]
  },
  {
   "cell_type": "code",
   "execution_count": 52,
   "metadata": {},
   "outputs": [
    {
     "ename": "SyntaxError",
     "evalue": "invalid syntax. Perhaps you forgot a comma? (Temp/ipykernel_1508/3468921937.py, line 2)",
     "output_type": "error",
     "traceback": [
      "\u001b[1;36m  File \u001b[1;32m\"C:\\Users\\TSVYK\\AppData\\Local\\Temp/ipykernel_1508/3468921937.py\"\u001b[1;36m, line \u001b[1;32m2\u001b[0m\n\u001b[1;33m    Select model, speed, hd\u001b[0m\n\u001b[1;37m    ^\u001b[0m\n\u001b[1;31mSyntaxError\u001b[0m\u001b[1;31m:\u001b[0m invalid syntax. Perhaps you forgot a comma?\n"
     ]
    }
   ],
   "source": [
    "1. \n",
    "Select model, speed, hd\n",
    "FROM PC\n",
    "WHERE price<500\n",
    "----------------------------------------------\n",
    "2.\n",
    "Select DISTINCT maker\n",
    "from Product\n",
    "WHERE type='Printer'\n",
    "\n",
    "----------------------------------------------\n",
    "3.\n",
    "Select model, ram,screen\n",
    "from Laptop\n",
    "Where price>1000\n",
    "\n",
    "----------------------------------------------\n",
    "4. \n",
    "Select *\n",
    "from Printer\n",
    "where color='y'\n",
    "----------------------------------------------\n",
    "5. \n",
    "Select model, speed, hd\n",
    "From PC\n",
    "WHERE CD in ('12x', '24x') AND price<600\n",
    "\n",
    "----------------------------------------------\n",
    "6. \n",
    "Select Distinct maker, speed\n",
    "FROM Product Join Laptop ON Product.model=Laptop.model\n",
    "Where hd>=10\n",
    "\n",
    "----------------------------------------------\n",
    "7. \n",
    "Select Product.model, PC.price\n",
    "\n",
    "From Product JOIN PC ON Product.model=PC.model\n",
    "\n",
    "WHERE maker='B'\n",
    "\n",
    "UNION\n",
    "\n",
    "Select Product.model, Laptop.price\n",
    "\n",
    "From Product JOIN Laptop ON Product.model=Laptop.model\n",
    "\n",
    "WHERE maker='B'\n",
    "\n",
    "UNION\n",
    "\n",
    "Select Product.model, Printer.price\n",
    "\n",
    "From Product JOIN Printer ON Product.model=Printer.model\n",
    "\n",
    "WHERE maker='B'\n",
    "\n",
    "----------------------------------------------\n",
    "8. \n",
    "Select DISTINCT maker\n",
    "FROM Product\n",
    "WHERE type='PC'\n",
    "\n",
    "except\n",
    "Select maker\n",
    "From Product\n",
    "Where type='Laptop'\n",
    "\n",
    "----------------------------------------------\n",
    "9. \n",
    "Select DISTINCT maker\n",
    "FROM Product JOIN PC ON PC.model=Product.model\n",
    "WHERE speed>=450\n",
    "\n",
    "----------------------------------------------\n",
    "10. \n",
    "Select model, price\n",
    "From Printer\n",
    "WHERE price=(Select Max (price) From Printer)"
   ]
  },
  {
   "cell_type": "code",
   "execution_count": null,
   "metadata": {},
   "outputs": [],
   "source": []
  }
 ],
 "metadata": {
  "kernelspec": {
   "display_name": "Python 3 (ipykernel)",
   "language": "python",
   "name": "python3"
  },
  "language_info": {
   "codemirror_mode": {
    "name": "ipython",
    "version": 3
   },
   "file_extension": ".py",
   "mimetype": "text/x-python",
   "name": "python",
   "nbconvert_exporter": "python",
   "pygments_lexer": "ipython3",
   "version": "3.10.0"
  }
 },
 "nbformat": 4,
 "nbformat_minor": 2
}
